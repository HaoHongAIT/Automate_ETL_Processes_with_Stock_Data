{
 "cells": [
  {
   "cell_type": "markdown",
   "metadata": {
    "id": "AyrPQn_PhG0G"
   },
   "source": []
  },
  {
   "cell_type": "markdown",
   "metadata": {
    "id": "5ieWkOiSYR7M"
   },
   "source": [
    "## Các Chỉ Số Hỗ Trợ Dự Đoán\n",
    "- Moving Average `MA`\n",
    "- Simple Moving Average `SMA`\n",
    "- Exponential Moving Average `EMA`\n",
    "- Moving Average Convergence Divergence `MACD`\n",
    "- Relative Strength Index `RSI`\n",
    "\n"
   ]
  }
 ],
 "metadata": {
  "colab": {
   "collapsed_sections": [
    "yoFPjyxa9Kjd",
    "05B2qakR9XH4",
    "tYFt0K3O92CD",
    "IvzuwLB4-FfS",
    "rSFFUXYms4Ut",
    "18zFg1mfs4Uy",
    "e_FlQvMCs4Uy",
    "Ix6GKN2ms4Uy",
    "whA52_nTs4Uy",
    "I86hIZKkuNMh",
    "Plfl68ImuNMm",
    "6hP3MPFPuNMm",
    "8mdMXexvuNMn",
    "rigkygAtuNMn"
   ],
   "provenance": []
  },
  "kernelspec": {
   "display_name": "Python 3",
   "name": "python3"
  },
  "language_info": {
   "codemirror_mode": {
    "name": "ipython",
    "version": 3
   },
   "file_extension": ".py",
   "mimetype": "text/x-python",
   "name": "python",
   "nbconvert_exporter": "python",
   "pygments_lexer": "ipython3",
   "version": "3.10.8"
  }
 },
 "nbformat": 4,
 "nbformat_minor": 0
}
